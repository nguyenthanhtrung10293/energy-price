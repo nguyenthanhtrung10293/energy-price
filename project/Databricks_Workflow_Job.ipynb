{
 "cells": [
  {
   "cell_type": "markdown",
   "id": "62e13986",
   "metadata": {},
   "source": [
    "# Databricks Workflow (Job) for Medallion Architecture & Model Lifecycle\n",
    "This JSON defines a Databricks Job that orchestrates the ETL (bronze, silver, gold), model training/deployment, batch inference, and monitoring notebooks. Adjust notebook paths, cluster IDs, and Unity Catalog names as needed."
   ]
  },
  {
   "cell_type": "code",
   "execution_count": null,
   "id": "beb84343",
   "metadata": {},
   "outputs": [],
   "source": [
    "import json\n",
    "job_json = {\n",
    "    \"name\": \"Energy Price Medallion Pipeline\",\n",
    "    \"tasks\": [\n",
    "        {\n",
    "            \"task_key\": \"bronze_ingest\",\n",
    "            \"notebook_task\": {\"notebook_path\": \"/Repos/your_user/energy_price/project/ETL_Bronze.ipynb\"},\n",
    "            \"cluster_spec\": {\"existing_cluster_id\": \"YOUR_CLUSTER_ID\"}\n",
    "        },\n",
    "        {\n",
    "            \"task_key\": \"silver_clean\",\n",
    "            \"depends_on\": [{\"task_key\": \"bronze_ingest\"}],\n",
    "            \"notebook_task\": {\"notebook_path\": \"/Repos/your_user/energy_price/project/ETL_Silver.ipynb\"},\n",
    "            \"cluster_spec\": {\"existing_cluster_id\": \"YOUR_CLUSTER_ID\"}\n",
    "        },\n",
    "        {\n",
    "            \"task_key\": \"gold_features\",\n",
    "            \"depends_on\": [{\"task_key\": \"silver_clean\"}],\n",
    "            \"notebook_task\": {\"notebook_path\": \"/Repos/your_user/energy_price/project/ETL_Gold_Features.ipynb\"},\n",
    "            \"cluster_spec\": {\"existing_cluster_id\": \"YOUR_CLUSTER_ID\"}\n",
    "        },\n",
    "        {\n",
    "            \"task_key\": \"model_train_deploy\",\n",
    "            \"depends_on\": [{\"task_key\": \"gold_features\"}],\n",
    "            \"notebook_task\": {\"notebook_path\": \"/Repos/your_user/energy_price/project/Model_Train_Deploy.ipynb\"},\n",
    "            \"cluster_spec\": {\"existing_cluster_id\": \"YOUR_CLUSTER_ID\"}\n",
    "        },\n",
    "        {\n",
    "            \"task_key\": \"batch_inference\",\n",
    "            \"depends_on\": [{\"task_key\": \"model_train_deploy\"}],\n",
    "            \"notebook_task\": {\"notebook_path\": \"/Repos/your_user/energy_price/project/Batch_Inference.ipynb\"},\n",
    "            \"cluster_spec\": {\"existing_cluster_id\": \"YOUR_CLUSTER_ID\"}\n",
    "        },\n",
    "        {\n",
    "            \"task_key\": \"monitoring_retraining\",\n",
    "            \"depends_on\": [{\"task_key\": \"batch_inference\"}],\n",
    "            \"notebook_task\": {\"notebook_path\": \"/Repos/your_user/energy_price/project/Monitoring_Retraining.ipynb\"},\n",
    "            \"cluster_spec\": {\"existing_cluster_id\": \"YOUR_CLUSTER_ID\"}\n",
    "        }\n",
    "    ]\n",
    "}\n",
    "print(json.dumps(job_json, indent=2))"
   ]
  },
  {
   "cell_type": "markdown",
   "id": "e1a88f95",
   "metadata": {},
   "source": [
    "---\n",
    "**Instructions:**\n",
    "- Upload each notebook to Databricks and update the notebook paths and cluster IDs in the workflow JSON.\n",
    "- Use Unity Catalog for all Delta and model paths for secure, governed access.\n",
    "- The monitoring notebook can be scheduled or set to trigger retraining via the Databricks Jobs API.\n",
    "- Add Databricks SQL dashboards on the gold and prediction tables for business insights."
   ]
  }
 ],
 "metadata": {
  "language_info": {
   "name": "python"
  }
 },
 "nbformat": 4,
 "nbformat_minor": 5
}
