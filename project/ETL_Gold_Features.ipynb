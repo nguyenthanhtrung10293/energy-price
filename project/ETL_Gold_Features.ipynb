{
 "cells": [
  {
   "cell_type": "markdown",
   "id": "cce6adc7",
   "metadata": {},
   "source": [
    "# Gold Table (Feature Engineering)\n",
    "Read from the silver table, perform feature engineering, and write to the gold (features) Delta table."
   ]
  },
  {
   "cell_type": "code",
   "execution_count": null,
   "id": "67b3cfc5",
   "metadata": {},
   "outputs": [],
   "source": [
    "# Feature engineering from silver to gold Delta table\n",
    "from pyspark.sql.window import Window\n",
    "from pyspark.sql.functions import *\n",
    "\n",
    "gold_path = \"/Volumes/your_catalog/your_schema/energy_price_gold_features\"\n",
    "silver_path = \"/Volumes/your_catalog/your_schema/energy_price_silver\"\n",
    "\n",
    "silver_df = spark.read.format(\"delta\").load(silver_path)\n",
    "window = Window.orderBy(\"start_time\")\n",
    "gold_df = (\n",
    "    silver_df\n",
    "    .withColumn(\"lag_1d\", lag(\"price_eur_mwh\", 1).over(window))\n",
    "    .withColumn(\"lag_7d\", lag(\"price_eur_mwh\", 7).over(window))\n",
    "    .withColumn(\"roll_mean_7d\", avg(\"price_eur_mwh\").over(window.rowsBetween(-6, 0)))\n",
    "    .withColumn(\"roll_mean_30d\", avg(\"price_eur_mwh\").over(window.rowsBetween(-29, 0)))\n",
    "    .withColumn(\"day_of_week\", dayofweek(\"start_time\"))\n",
    "    .withColumn(\"month\", month(\"start_time\"))\n",
    "    .withColumn(\"is_weekend\", (dayofweek(\"start_time\") >= 6).cast(\"int\"))\n",
    "    .dropna()\n",
    ")\n",
    "gold_df.write.format(\"delta\").mode(\"overwrite\").save(gold_path)\n",
    "print(f\"Gold (features) table written to {gold_path}\")"
   ]
  },
  {
   "cell_type": "markdown",
   "id": "d6689291",
   "metadata": {},
   "source": [
    "# Gold Table (Feature Engineering)\n",
    "Read from the silver table, perform feature engineering, and write to the gold (features) Delta table."
   ]
  },
  {
   "cell_type": "code",
   "execution_count": null,
   "id": "4ac3e7bf",
   "metadata": {},
   "outputs": [],
   "source": [
    "# Feature engineering from silver to gold Delta table\n",
    "from pyspark.sql.window import Window\n",
    "from pyspark.sql.functions import *\n",
    "\n",
    "gold_path = \"/Volumes/your_catalog/your_schema/energy_price_gold_features\"\n",
    "silver_path = \"/Volumes/your_catalog/your_schema/energy_price_silver\"\n",
    "\n",
    "silver_df = spark.read.format(\"delta\").load(silver_path)\n",
    "window = Window.orderBy(\"start_time\")\n",
    "gold_df = (\n",
    "    silver_df\n",
    "    .withColumn(\"lag_1d\", lag(\"price_eur_mwh\", 1).over(window))\n",
    "    .withColumn(\"lag_7d\", lag(\"price_eur_mwh\", 7).over(window))\n",
    "    .withColumn(\"roll_mean_7d\", avg(\"price_eur_mwh\").over(window.rowsBetween(-6, 0)))\n",
    "    .withColumn(\"roll_mean_30d\", avg(\"price_eur_mwh\").over(window.rowsBetween(-29, 0)))\n",
    "    .withColumn(\"day_of_week\", dayofweek(\"start_time\"))\n",
    "    .withColumn(\"month\", month(\"start_time\"))\n",
    "    .withColumn(\"is_weekend\", (dayofweek(\"start_time\") >= 6).cast(\"int\"))\n",
    "    .dropna()\n",
    ")\n",
    "gold_df.write.format(\"delta\").mode(\"overwrite\").save(gold_path)\n",
    "print(f\"Gold (features) table written to {gold_path}\")"
   ]
  }
 ],
 "metadata": {
  "language_info": {
   "name": "python"
  }
 },
 "nbformat": 4,
 "nbformat_minor": 5
}
