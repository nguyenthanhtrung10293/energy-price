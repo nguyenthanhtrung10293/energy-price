{
 "cells": [
  {
   "cell_type": "markdown",
   "id": "f55d2628",
   "metadata": {},
   "source": [
    "# Silver Table Processing (Cleaned Data)\n",
    "Read from the bronze table, clean and validate data, and write to the silver Delta table."
   ]
  },
  {
   "cell_type": "code",
   "execution_count": null,
   "id": "e6301035",
   "metadata": {},
   "outputs": [],
   "source": [
    "# Clean/process bronze data to silver Delta table\n",
    "from pyspark.sql.functions import *\n",
    "\n",
    "bronze_path = \"/Volumes/your_catalog/your_schema/energy_price_bronze\"\n",
    "silver_path = \"/Volumes/your_catalog/your_schema/energy_price_silver\"\n",
    "\n",
    "bronze_df = spark.read.format(\"delta\").load(bronze_path)\n",
    "silver_df = (\n",
    "    bronze_df\n",
    "    .dropna(subset=[\"start_time\", \"price_eur_mwh\"])\n",
    "    .withColumn(\"start_time\", to_timestamp(\"start_time\"))\n",
    "    .withColumn(\"end_time\", to_timestamp(\"end_time\"))\n",
    "    .filter(col(\"price_eur_mwh\") > 0)\n",
    ")\n",
    "silver_df.write.format(\"delta\").mode(\"overwrite\").save(silver_path)\n",
    "print(f\"Silver table written to {silver_path}\")"
   ]
  }
 ],
 "metadata": {
  "language_info": {
   "name": "python"
  }
 },
 "nbformat": 4,
 "nbformat_minor": 5
}
