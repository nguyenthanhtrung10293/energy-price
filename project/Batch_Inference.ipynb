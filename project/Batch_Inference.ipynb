{
 "cells": [
  {
   "cell_type": "markdown",
   "id": "a74f3ec2",
   "metadata": {},
   "source": [
    "# Batch Inference with Champion Model\n",
    "Load the champion model from Unity Catalog, run batch inference on new gold features, and write predictions to a Delta table."
   ]
  },
  {
   "cell_type": "code",
   "execution_count": null,
   "id": "1eb8caa9",
   "metadata": {},
   "outputs": [],
   "source": [
    "# Load the champion model from Unity Catalog, run batch inference, and write predictions to Delta table\n",
    "import mlflow\n",
    "import pandas as pd\n",
    "\n",
    "gold_path = \"/Volumes/your_catalog/your_schema/energy_price_gold_features\"\n",
    "prediction_path = \"/Volumes/your_catalog/your_schema/energy_price_predictions\"\n",
    "model_uc_path = \"models:/your_catalog/your_schema/energy_price_xgb@champion\"\n",
    "\n",
    "mlflow.set_registry_uri(\"databricks-uc\")\n",
    "champion_model = mlflow.pyfunc.load_model(model_uc_path)\n",
    "\n",
    "gold_pdf = spark.read.format(\"delta\").load(gold_path).toPandas()\n",
    "feature_cols = [c for c in gold_pdf.columns if c not in [\"start_time\", \"end_time\", \"price_eur_mwh\"]]\n",
    "X_pred = gold_pdf[feature_cols]\n",
    "pred_df = gold_pdf[[\"start_time\"]].copy()\n",
    "pred_df[\"prediction\"] = champion_model.predict(X_pred)\n",
    "\n",
    "pred_sdf = spark.createDataFrame(pred_df)\n",
    "pred_sdf.write.format(\"delta\").mode(\"overwrite\").save(prediction_path)\n",
    "print(f\"Predictions written to {prediction_path}\")"
   ]
  }
 ],
 "metadata": {
  "language_info": {
   "name": "python"
  }
 },
 "nbformat": 4,
 "nbformat_minor": 5
}
