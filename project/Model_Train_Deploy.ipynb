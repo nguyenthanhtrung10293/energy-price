{
 "cells": [
  {
   "cell_type": "markdown",
   "id": "5f8692bd",
   "metadata": {},
   "source": [
    "# Model Training, Registration, and Champion Deployment (Unity Catalog)\n",
    "Train XGBoost on gold features, register the model in Unity Catalog, and set as champion (production alias)."
   ]
  },
  {
   "cell_type": "code",
   "execution_count": null,
   "id": "5507d4c6",
   "metadata": {},
   "outputs": [],
   "source": [
    "# Train XGBoost on gold features, register in Unity Catalog, and set as champion\n",
    "import mlflow\n",
    "import mlflow.xgboost\n",
    "import xgboost as xgb\n",
    "from sklearn.model_selection import train_test_split\n",
    "import pandas as pd\n",
    "\n",
    "# Define paths for gold features and Unity Catalog model\n",
    "gold_path = \"/Volumes/your_catalog/your_schema/energy_price_gold_features\"\n",
    "model_uc_path = \"models:/your_catalog/your_schema/energy_price_xgb\"\n",
    "\n",
    "mlflow.set_registry_uri(\"databricks-uc\")\n",
    "mlflow.xgboost.autolog()\n",
    "\n",
    "gold_pdf = spark.read.format(\"delta\").load(gold_path).toPandas()\n",
    "feature_cols = [c for c in gold_pdf.columns if c not in [\"start_time\", \"end_time\", \"price_eur_mwh\"]]\n",
    "X = gold_pdf[feature_cols]\n",
    "y = gold_pdf[\"price_eur_mwh\"]\n",
    "X_train, X_test, y_train, y_test = train_test_split(X, y, test_size=0.1, shuffle=False)\n",
    "\n",
    "with mlflow.start_run(run_name=\"xgb_train_uc\"):\n",
    "    model = xgb.XGBRegressor()\n",
    "    model.fit(X_train, y_train)\n",
    "    mlflow.xgboost.log_model(model, \"model\", registered_model_name=model_uc_path)\n",
    "    run_id = mlflow.active_run().info.run_id\n",
    "    print(f\"Model registered to Unity Catalog: {model_uc_path}\")\n",
    "\n",
    "# Set as champion (production alias)\n",
    "# Note: The following is a placeholder. In Databricks, use the REST API or UI to set the alias.\n",
    "print(\"Champion model should be set to the latest version in Unity Catalog (use Databricks UI/API).\")"
   ]
  }
 ],
 "metadata": {
  "language_info": {
   "name": "python"
  }
 },
 "nbformat": 4,
 "nbformat_minor": 5
}
