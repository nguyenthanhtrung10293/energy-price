{
 "cells": [
  {
   "cell_type": "markdown",
   "id": "d66187aa",
   "metadata": {},
   "source": [
    "# Model Monitoring & Retraining Trigger\n",
    "Monitor model performance (e.g., via prediction error), and trigger retraining if drift is detected."
   ]
  },
  {
   "cell_type": "code",
   "execution_count": null,
   "id": "78fd8ef3",
   "metadata": {},
   "outputs": [],
   "source": [
    "# Monitor prediction error and trigger retraining if needed\n",
    "import mlflow\n",
    "import pandas as pd\n",
    "\n",
    "prediction_path = \"/Volumes/your_catalog/your_schema/energy_price_predictions\"\n",
    "gold_path = \"/Volumes/your_catalog/your_schema/energy_price_gold_features\"\n",
    "\n",
    "pred_pdf = spark.read.format(\"delta\").load(prediction_path).toPandas()\n",
    "gold_pdf = spark.read.format(\"delta\").load(gold_path).toPandas()\n",
    "\n",
    "# Join on start_time to get actuals\n",
    "merged = pd.merge(pred_pdf, gold_pdf[[\"start_time\", \"price_eur_mwh\"]], on=\"start_time\", how=\"inner\")\n",
    "merged[\"error\"] = abs(merged[\"prediction\"] - merged[\"price_eur_mwh\"])\n",
    "mean_error = merged[\"error\"].mean()\n",
    "print(f\"Mean prediction error: {mean_error}\")\n",
    "\n",
    "# If error exceeds threshold, trigger retraining (e.g., via Databricks REST API or workflow trigger)\n",
    "THRESHOLD = 10  # Example threshold\n",
    "if mean_error > THRESHOLD:\n",
    "    print(\"Drift detected: triggering retraining...\")\n",
    "    # (In production, call Databricks Jobs API to trigger Model_Train_Deploy notebook)\n",
    "else:\n",
    "    print(\"No drift detected.\")"
   ]
  },
  {
   "cell_type": "markdown",
   "id": "6e8f1571",
   "metadata": {},
   "source": [
    "# Model Monitoring & Retraining Trigger\n",
    "Monitor model performance (e.g., via prediction error), and trigger retraining if drift is detected."
   ]
  },
  {
   "cell_type": "code",
   "execution_count": null,
   "id": "064fa1a2",
   "metadata": {},
   "outputs": [],
   "source": [
    "# Monitor prediction error and trigger retraining if needed\n",
    "import mlflow\n",
    "import pandas as pd\n",
    "\n",
    "prediction_path = \"/Volumes/your_catalog/your_schema/energy_price_predictions\"\n",
    "gold_path = \"/Volumes/your_catalog/your_schema/energy_price_gold_features\"\n",
    "\n",
    "pred_pdf = spark.read.format(\"delta\").load(prediction_path).toPandas()\n",
    "gold_pdf = spark.read.format(\"delta\").load(gold_path).toPandas()\n",
    "\n",
    "# Join on start_time to get actuals\n",
    "merged = pd.merge(pred_pdf, gold_pdf[[\"start_time\", \"price_eur_mwh\"]], on=\"start_time\", how=\"inner\")\n",
    "merged[\"error\"] = abs(merged[\"prediction\"] - merged[\"price_eur_mwh\"])\n",
    "mean_error = merged[\"error\"].mean()\n",
    "print(f\"Mean prediction error: {mean_error}\")\n",
    "\n",
    "# If error exceeds threshold, trigger retraining (e.g., via Databricks REST API or workflow trigger)\n",
    "THRESHOLD = 10  # Example threshold\n",
    "if mean_error > THRESHOLD:\n",
    "    print(\"Drift detected: triggering retraining...\")\n",
    "    # (In production, call Databricks Jobs API to trigger Model_Train_Deploy notebook)\n",
    "else:\n",
    "    print(\"No drift detected.\")"
   ]
  }
 ],
 "metadata": {
  "language_info": {
   "name": "python"
  }
 },
 "nbformat": 4,
 "nbformat_minor": 5
}
